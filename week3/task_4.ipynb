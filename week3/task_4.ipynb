{
 "cells": [
  {
   "cell_type": "code",
   "execution_count": 1,
   "metadata": {},
   "outputs": [],
   "source": [
    "import numpy as np"
   ]
  },
  {
   "cell_type": "markdown",
   "metadata": {},
   "source": [
    "Task 4.1"
   ]
  },
  {
   "cell_type": "code",
   "execution_count": 2,
   "metadata": {},
   "outputs": [
    {
     "name": "stdout",
     "output_type": "stream",
     "text": [
      "Distances in $K\n",
      "Distance unknown -> bad: 4.123105625617661\n",
      "Distance unknown -> good: 26.019223662515376\n",
      "Distances in $\n",
      "Distance unknown -> bad: 4000.000124999998\n",
      "Distance unknown -> good: 1000.3379428972991\n"
     ]
    }
   ],
   "source": [
    "mr_bad = np.array([22, 40])\n",
    "mr_good = np.array([47, 35])\n",
    "mr_unknown = np.array([21, 36])\n",
    "\n",
    "dist_ub = np.linalg.norm(mr_unknown - mr_bad)\n",
    "dist_ug = np.linalg.norm(mr_unknown - mr_good)\n",
    "\n",
    "factor = np.array([1, 1000])\n",
    "\n",
    "dist_ub_k = np.linalg.norm(mr_unknown * factor - mr_bad * factor)\n",
    "dist_ug_k = np.linalg.norm(mr_unknown * factor - mr_good * factor)\n",
    "\n",
    "print(\"Distances in $K\")\n",
    "print(f\"Distance unknown -> bad: {dist_ub}\")\n",
    "print(f\"Distance unknown -> good: {dist_ug}\")\n",
    "\n",
    "print(\"Distances in $\")\n",
    "print(f\"Distance unknown -> bad: {dist_ub_k}\")\n",
    "print(f\"Distance unknown -> good: {dist_ug_k}\")"
   ]
  },
  {
   "cell_type": "markdown",
   "metadata": {},
   "source": [
    "Task 4.2"
   ]
  },
  {
   "cell_type": "code",
   "execution_count": 17,
   "metadata": {},
   "outputs": [],
   "source": [
    "x = np.ones((10, 1))\n",
    "y = np.ones((2, 10)) * 2\n",
    "z = np.dot(y, x)"
   ]
  }
 ],
 "metadata": {
  "kernelspec": {
   "display_name": "Python 3.9.13 ('04_MLA')",
   "language": "python",
   "name": "python3"
  },
  "language_info": {
   "codemirror_mode": {
    "name": "ipython",
    "version": 3
   },
   "file_extension": ".py",
   "mimetype": "text/x-python",
   "name": "python",
   "nbconvert_exporter": "python",
   "pygments_lexer": "ipython3",
   "version": "3.9.13"
  },
  "orig_nbformat": 4,
  "vscode": {
   "interpreter": {
    "hash": "b0cd659e422badc289b09613c52a8a7df312b57a89fecb5e6f49cfc7970c8344"
   }
  }
 },
 "nbformat": 4,
 "nbformat_minor": 2
}
