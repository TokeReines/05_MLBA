{
 "cells": [
  {
   "cell_type": "code",
   "execution_count": 1,
   "metadata": {},
   "outputs": [],
   "source": [
    "import numpy as np"
   ]
  },
  {
   "cell_type": "code",
   "execution_count": 4,
   "metadata": {},
   "outputs": [],
   "source": [
    "def occams_razor(M, emp_loss, n, delta):\n",
    "    return emp_loss + np.sqrt(np.log(M/delta) / (2*n))"
   ]
  },
  {
   "cell_type": "code",
   "execution_count": 9,
   "metadata": {},
   "outputs": [
    {
     "name": "stdout",
     "output_type": "stream",
     "text": [
      "L(ha_sb) 0.08146997846583984\n",
      "L(hb_sa) 0.07715665948861328\n"
     ]
    }
   ],
   "source": [
    "M = 2\n",
    "delta = 0.99\n",
    "\n",
    "Sb = 1000\n",
    "L_ha_sb = 0.03\n",
    "loss_bound_a = occams_razor(M, L_ha_sb, Sb, 1- delta)\n",
    "print(\"L(ha_sb)\", loss_bound_a)\n",
    "\n",
    "Sa = 9000\n",
    "L_hb_sa = 0.06\n",
    "loss_bound_b = occams_razor(M, L_hb_sa, Sa, 1 - delta)\n",
    "print(\"L(hb_sa)\", loss_bound_b)\n",
    "\n"
   ]
  }
 ],
 "metadata": {
  "kernelspec": {
   "display_name": "Python 3.9.13 ('04_MLA')",
   "language": "python",
   "name": "python3"
  },
  "language_info": {
   "codemirror_mode": {
    "name": "ipython",
    "version": 3
   },
   "file_extension": ".py",
   "mimetype": "text/x-python",
   "name": "python",
   "nbconvert_exporter": "python",
   "pygments_lexer": "ipython3",
   "version": "3.9.13"
  },
  "orig_nbformat": 4,
  "vscode": {
   "interpreter": {
    "hash": "b0cd659e422badc289b09613c52a8a7df312b57a89fecb5e6f49cfc7970c8344"
   }
  }
 },
 "nbformat": 4,
 "nbformat_minor": 2
}
