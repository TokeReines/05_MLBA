{
 "cells": [
  {
   "cell_type": "code",
   "execution_count": 2,
   "metadata": {},
   "outputs": [],
   "source": [
    "import numpy as np"
   ]
  },
  {
   "cell_type": "code",
   "execution_count": 23,
   "metadata": {},
   "outputs": [],
   "source": [
    "def occams_razor(M, emp_loss, n, delta):\n",
    "    return emp_loss + np.sqrt(np.log(M/delta) / (2*n))"
   ]
  },
  {
   "cell_type": "code",
   "execution_count": 49,
   "metadata": {},
   "outputs": [
    {
     "name": "stdout",
     "output_type": "stream",
     "text": [
      "L(ha, Sa) 0.07294694083467375\n",
      "L(ha) 0.06870227560204949\n",
      "L(hb, Sb) 0.07431564694489125\n",
      "L(hb) 0.0729007585340165\n"
     ]
    }
   ],
   "source": [
    "M = 2\n",
    "delta = 0.95\n",
    "\n",
    "Sb = 1000\n",
    "la = 0.03\n",
    "Sa = 9000\n",
    "lb = 0.06\n",
    "\n",
    "loss_bound_a = occams_razor(M, la, Sb, 1 - delta)\n",
    "print(\"L(ha, Sa)\", loss_bound_a)\n",
    "loss_bound_a = occams_razor(1, la, Sb, 1 - delta)\n",
    "print(\"L(ha)\", loss_bound_a)\n",
    "\n",
    "loss_bound_b = occams_razor(M, lb, Sa, 1 - delta)\n",
    "print(\"L(hb, Sb)\", loss_bound_b)\n",
    "loss_bound_b = occams_razor(1, lb, Sa, 1 - delta)\n",
    "print(\"L(hb)\", loss_bound_b)\n",
    "\n"
   ]
  }
 ],
 "metadata": {
  "kernelspec": {
   "display_name": "Python 3.9.13 ('mla')",
   "language": "python",
   "name": "python3"
  },
  "language_info": {
   "codemirror_mode": {
    "name": "ipython",
    "version": 3
   },
   "file_extension": ".py",
   "mimetype": "text/x-python",
   "name": "python",
   "nbconvert_exporter": "python",
   "pygments_lexer": "ipython3",
   "version": "3.9.13"
  },
  "orig_nbformat": 4,
  "vscode": {
   "interpreter": {
    "hash": "9e1b3c59e0afbe610be0ffeab281b38a6d488c703b30f94e0dce9e2d8124d9c4"
   }
  }
 },
 "nbformat": 4,
 "nbformat_minor": 2
}
