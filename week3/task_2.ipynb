{
 "cells": [
  {
   "cell_type": "code",
   "execution_count": 2,
   "metadata": {},
   "outputs": [],
   "source": [
    "import numpy as np\n",
    "import math"
   ]
  },
  {
   "cell_type": "code",
   "execution_count": 3,
   "metadata": {},
   "outputs": [],
   "source": [
    "data = np.loadtxt(\"S.csv\")"
   ]
  },
  {
   "cell_type": "code",
   "execution_count": 4,
   "metadata": {},
   "outputs": [],
   "source": [
    "def confidence_interval(data, point_estimate):\n",
    "    def hoeffding(n, delta):\n",
    "        x = 1/(2*n)*np.log(2/delta)\n",
    "        return np.sqrt(x)\n",
    "\n",
    "    n = len(data)\n",
    "    sample_mean = data.mean()\n",
    "    h = hoeffding(n, point_estimate)\n",
    "    return sample_mean - h, sample_mean + h\n"
   ]
  },
  {
   "cell_type": "code",
   "execution_count": 7,
   "metadata": {},
   "outputs": [
    {
     "name": "stdout",
     "output_type": "stream",
     "text": [
      "0.5594615006515282 0.6820411827116202\n"
     ]
    }
   ],
   "source": [
    "lower, upper = confidence_interval(data, 1 - 0.97)\n",
    "print(lower, upper)"
   ]
  }
 ],
 "metadata": {
  "kernelspec": {
   "display_name": "Python 3.9.13 ('mla')",
   "language": "python",
   "name": "python3"
  },
  "language_info": {
   "codemirror_mode": {
    "name": "ipython",
    "version": 3
   },
   "file_extension": ".py",
   "mimetype": "text/x-python",
   "name": "python",
   "nbconvert_exporter": "python",
   "pygments_lexer": "ipython3",
   "version": "3.9.13"
  },
  "orig_nbformat": 4,
  "vscode": {
   "interpreter": {
    "hash": "3cfd72b0f57ea56573c36289726bc19b9ca063e33e6da84059b9f74d0ee4633b"
   }
  }
 },
 "nbformat": 4,
 "nbformat_minor": 2
}
