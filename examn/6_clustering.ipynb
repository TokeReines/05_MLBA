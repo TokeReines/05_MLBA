{
 "cells": [
  {
   "cell_type": "code",
   "execution_count": 1,
   "metadata": {},
   "outputs": [],
   "source": [
    "import numpy as np"
   ]
  },
  {
   "cell_type": "code",
   "execution_count": 2,
   "metadata": {},
   "outputs": [],
   "source": [
    "A = (7, 0)\n",
    "B = (2, 0)\n",
    "C = (0, -2)\n",
    "D = (0, 2)\n",
    "E = (-6, -2)\n",
    "F = (-6, 2)\n",
    "c1 = [A]\n",
    "c2 = [F, E]\n",
    "c3 = [B, C, D]"
   ]
  },
  {
   "cell_type": "code",
   "execution_count": 17,
   "metadata": {},
   "outputs": [
    {
     "name": "stdout",
     "output_type": "stream",
     "text": [
      "[7. 0.]\n",
      "[-6.  0.]\n",
      "[0.66666667 0.        ]\n"
     ]
    }
   ],
   "source": [
    "def euclidean_norm(p1, C):\n",
    "    c = np.mean(C, axis=0)\n",
    "    p = np.linalg.norm(np.array(p1) - c)\n",
    "    return p**2\n",
    "\n",
    "phi = 0\n",
    "for p in c1:\n",
    "    phi += euclidean_norm(p, c1)\n",
    "    \n",
    "for p in c2:\n",
    "    phi += euclidean_norm(p, c2)\n",
    "    \n",
    "for p in c3:\n",
    "    phi += euclidean_norm(p, c3)\n",
    "\n",
    "print(np.mean(c1, axis=0))\n",
    "print(np.mean(c2, axis=0))\n",
    "print(np.mean(c3, axis=0));"
   ]
  }
 ],
 "metadata": {
  "kernelspec": {
   "display_name": "Python 3.9.13 ('mla')",
   "language": "python",
   "name": "python3"
  },
  "language_info": {
   "codemirror_mode": {
    "name": "ipython",
    "version": 3
   },
   "file_extension": ".py",
   "mimetype": "text/x-python",
   "name": "python",
   "nbconvert_exporter": "python",
   "pygments_lexer": "ipython3",
   "version": "3.9.13"
  },
  "orig_nbformat": 4,
  "vscode": {
   "interpreter": {
    "hash": "3cfd72b0f57ea56573c36289726bc19b9ca063e33e6da84059b9f74d0ee4633b"
   }
  }
 },
 "nbformat": 4,
 "nbformat_minor": 2
}
