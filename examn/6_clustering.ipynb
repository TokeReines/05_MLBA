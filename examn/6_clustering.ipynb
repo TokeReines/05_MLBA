{
 "cells": [
  {
   "cell_type": "code",
   "execution_count": 1,
   "metadata": {},
   "outputs": [],
   "source": [
    "import numpy as np"
   ]
  },
  {
   "cell_type": "code",
   "execution_count": 2,
   "metadata": {},
   "outputs": [],
   "source": [
    "A = (7, 0)\n",
    "B = (2, 0)\n",
    "C = (0, -2)\n",
    "D = (0, 2)\n",
    "E = (-6, -2)\n",
    "F = (-6, 2)\n",
    "c1 = [A]\n",
    "c2 = [F, E]\n",
    "c3 = [B, C, D]"
   ]
  },
  {
   "cell_type": "code",
   "execution_count": 6,
   "metadata": {},
   "outputs": [
    {
     "data": {
      "text/plain": [
       "32.0"
      ]
     },
     "execution_count": 6,
     "metadata": {},
     "output_type": "execute_result"
    }
   ],
   "source": [
    "def euclidean_norm(p1, p2):\n",
    "    p = np.linalg.norm(np.array(p1) - np.array(p2))\n",
    "    return p**2\n",
    "phi = 0\n",
    "for p in c1:\n",
    "    phi += euclidean_norm(p, A)\n",
    "    \n",
    "for p in c2:\n",
    "    phi += euclidean_norm(p, F)\n",
    "    \n",
    "for p in c3:\n",
    "    phi += euclidean_norm(p, B)\n",
    "\n",
    "phi"
   ]
  }
 ],
 "metadata": {
  "kernelspec": {
   "display_name": "Python 3.9.13 ('mla')",
   "language": "python",
   "name": "python3"
  },
  "language_info": {
   "codemirror_mode": {
    "name": "ipython",
    "version": 3
   },
   "file_extension": ".py",
   "mimetype": "text/x-python",
   "name": "python",
   "nbconvert_exporter": "python",
   "pygments_lexer": "ipython3",
   "version": "3.9.13"
  },
  "orig_nbformat": 4,
  "vscode": {
   "interpreter": {
    "hash": "3cfd72b0f57ea56573c36289726bc19b9ca063e33e6da84059b9f74d0ee4633b"
   }
  }
 },
 "nbformat": 4,
 "nbformat_minor": 2
}
