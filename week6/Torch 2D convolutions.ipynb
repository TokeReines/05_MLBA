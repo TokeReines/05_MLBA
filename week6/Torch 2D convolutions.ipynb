{
 "cells": [
  {
   "cell_type": "markdown",
   "id": "structured-tuning",
   "metadata": {
    "id": "structured-tuning"
   },
   "source": [
    "# PyTorch 2D convolutions\n",
    "#### Christian Igel, 2021"
   ]
  },
  {
   "cell_type": "markdown",
   "id": "ooBCszdvpKZs",
   "metadata": {
    "id": "ooBCszdvpKZs"
   },
   "source": [
    "## Mount driver and establish workspace\n",
    "First part is only of interest if you are using Google Colab."
   ]
  },
  {
   "cell_type": "code",
   "execution_count": 1,
   "id": "Q6YBvOQDpVg3",
   "metadata": {
    "id": "Q6YBvOQDpVg3"
   },
   "outputs": [],
   "source": [
    "import os\n",
    "#from google.colab import drive\n",
    "#drive.mount('/content/gdrive/', force_remount=True)"
   ]
  },
  {
   "cell_type": "code",
   "execution_count": 2,
   "id": "F3LgNo85paJH",
   "metadata": {
    "id": "F3LgNo85paJH"
   },
   "outputs": [],
   "source": [
    "## go to your folder\n",
    "#os.chdir('$Your Space')"
   ]
  },
  {
   "cell_type": "code",
   "execution_count": 3,
   "id": "realistic-banana",
   "metadata": {
    "id": "realistic-banana"
   },
   "outputs": [],
   "source": [
    "import torch\n",
    "import torch.nn as nn"
   ]
  },
  {
   "cell_type": "markdown",
   "id": "sized-craft",
   "metadata": {
    "id": "sized-craft"
   },
   "source": [
    "## One input channel, one output, no padding\n",
    "Let's define a `W`$\\times$`W` filter. For the following examples, we do not need a bias parameter."
   ]
  },
  {
   "cell_type": "code",
   "execution_count": 4,
   "id": "capital-granny",
   "metadata": {
    "id": "capital-granny"
   },
   "outputs": [
    {
     "name": "stdout",
     "output_type": "stream",
     "text": [
      "We just defined: Conv2d(1, 1, kernel_size=(3, 3), stride=(1, 1), bias=False)\n"
     ]
    }
   ],
   "source": [
    "# Convolution filter is of size W\n",
    "W = 3\n",
    "# 1 input (image) channel, 1 output channel, WxW convolution kernel\n",
    "conv = nn.Conv2d(1, 1, W, bias=False)\n",
    "print(\"We just defined:\", conv)"
   ]
  },
  {
   "cell_type": "markdown",
   "id": "virgin-throat",
   "metadata": {
    "id": "virgin-throat"
   },
   "source": [
    "Let's look at the kernel dimensions:"
   ]
  },
  {
   "cell_type": "code",
   "execution_count": 5,
   "id": "homeless-discovery",
   "metadata": {
    "id": "homeless-discovery",
    "scrolled": true
   },
   "outputs": [
    {
     "name": "stdout",
     "output_type": "stream",
     "text": [
      "torch.Size([1, 1, 3, 3])\n"
     ]
    }
   ],
   "source": [
    "# 1 output channel, 1 input channel, 1st dimension = W, 2nd dimension = W\n",
    "print(conv.weight.shape)"
   ]
  },
  {
   "cell_type": "markdown",
   "id": "ordered-working",
   "metadata": {
    "id": "ordered-working"
   },
   "source": [
    "The filter parameters are initialized randomly:"
   ]
  },
  {
   "cell_type": "code",
   "execution_count": 6,
   "id": "excess-pennsylvania",
   "metadata": {
    "id": "excess-pennsylvania"
   },
   "outputs": [
    {
     "name": "stdout",
     "output_type": "stream",
     "text": [
      "Parameter containing:\n",
      "tensor([[[[-0.3246,  0.1313,  0.1830],\n",
      "          [-0.2642, -0.2792,  0.0081],\n",
      "          [-0.2431, -0.2773, -0.1755]]]], requires_grad=True)\n"
     ]
    }
   ],
   "source": [
    "print(conv.weight)"
   ]
  },
  {
   "cell_type": "markdown",
   "id": "lonely-monaco",
   "metadata": {
    "id": "lonely-monaco"
   },
   "source": [
    "We can set the parameters as follows:"
   ]
  },
  {
   "cell_type": "code",
   "execution_count": 7,
   "id": "ambient-sender",
   "metadata": {
    "id": "ambient-sender"
   },
   "outputs": [
    {
     "name": "stdout",
     "output_type": "stream",
     "text": [
      "Parameter containing:\n",
      "tensor([[[[1., 1., 1.],\n",
      "          [1., 1., 1.],\n",
      "          [1., 1., 1.]]]], requires_grad=True)\n"
     ]
    }
   ],
   "source": [
    "conv.weight = torch.nn.Parameter(torch.ones_like(conv.weight))\n",
    "print(conv.weight)"
   ]
  },
  {
   "cell_type": "markdown",
   "id": "serial-evolution",
   "metadata": {
    "id": "serial-evolution"
   },
   "source": [
    "Let's define an input (image) `x`. The input is of the same shape as the filter:"
   ]
  },
  {
   "cell_type": "code",
   "execution_count": 8,
   "id": "preceding-spank",
   "metadata": {
    "id": "preceding-spank",
    "scrolled": true
   },
   "outputs": [
    {
     "name": "stdout",
     "output_type": "stream",
     "text": [
      "Input:\n",
      " tensor([[[[0., 1., 2.],\n",
      "          [3., 4., 5.],\n",
      "          [6., 7., 8.]]]])\n",
      "Sum of all input elements: 36.0\n"
     ]
    }
   ],
   "source": [
    "x = torch.arange(float(W*W))\n",
    "x = torch.reshape(x, (1, 1, W, W))\n",
    "print('Input:\\n', x)\n",
    "print('Sum of all input elements:', torch.sum(x).item())"
   ]
  },
  {
   "cell_type": "markdown",
   "id": "streaming-benjamin",
   "metadata": {
    "id": "streaming-benjamin"
   },
   "source": [
    "Because there is no padding and input and filter have the same size, there is only one valid position for the filter. Accordingly, the result is a tensor with a single value:"
   ]
  },
  {
   "cell_type": "code",
   "execution_count": 9,
   "id": "million-bunch",
   "metadata": {
    "id": "million-bunch"
   },
   "outputs": [
    {
     "name": "stdout",
     "output_type": "stream",
     "text": [
      "Tensor: tensor([[[[36.]]]], grad_fn=<ConvolutionBackward0>) scalar: 36.0\n"
     ]
    }
   ],
   "source": [
    "c = conv(x)\n",
    "print('Tensor:', c, 'scalar:', c.item())"
   ]
  },
  {
   "cell_type": "markdown",
   "id": "final-positive",
   "metadata": {
    "id": "final-positive"
   },
   "source": [
    "The scalar should be equal to the sum of all input elements (ensure that you understand why)."
   ]
  },
  {
   "cell_type": "markdown",
   "id": "limiting-stomach",
   "metadata": {
    "id": "limiting-stomach"
   },
   "source": [
    "## One input channel, one output,  padding\n",
    "Now we add zero-padding such that the input dimensionality is preseved:\n"
   ]
  },
  {
   "cell_type": "code",
   "execution_count": 10,
   "id": "naughty-alfred",
   "metadata": {
    "id": "naughty-alfred"
   },
   "outputs": [
    {
     "name": "stdout",
     "output_type": "stream",
     "text": [
      "tensor([[[[ 8., 15., 12.],\n",
      "          [21., 36., 27.],\n",
      "          [20., 33., 24.]]]], grad_fn=<ConvolutionBackward0>)\n"
     ]
    }
   ],
   "source": [
    "conv = nn.Conv2d(1, 1, W, padding=W//2, bias=False)\n",
    "conv.weight = torch.nn.Parameter(torch.ones_like(conv.weight))\n",
    "c = conv(x)\n",
    "print(c)"
   ]
  },
  {
   "cell_type": "markdown",
   "id": "invalid-communication",
   "metadata": {
    "id": "invalid-communication"
   },
   "source": [
    "## Several input channels, one output, no padding\n",
    "Typically, the input to a convolutional layer consists of several feature maps or channels. For example, consider a 2D input with three channels (e.g., an RGB colour image):"
   ]
  },
  {
   "cell_type": "code",
   "execution_count": 11,
   "id": "amber-somerset",
   "metadata": {
    "id": "amber-somerset"
   },
   "outputs": [
    {
     "name": "stdout",
     "output_type": "stream",
     "text": [
      "Input: tensor([[[[ 0.,  1.,  2.],\n",
      "          [ 3.,  4.,  5.],\n",
      "          [ 6.,  7.,  8.]],\n",
      "\n",
      "         [[ 9., 10., 11.],\n",
      "          [12., 13., 14.],\n",
      "          [15., 16., 17.]],\n",
      "\n",
      "         [[18., 19., 20.],\n",
      "          [21., 22., 23.],\n",
      "          [24., 25., 26.]]]])\n",
      "Sum of all inputs: 351.0\n"
     ]
    }
   ],
   "source": [
    "x = torch.arange(float(3*W*W))\n",
    "x = torch.reshape(x, (1, 3, W, W))\n",
    "print('Input:', x)\n",
    "print('Sum of all inputs:', torch.sum(x).item())"
   ]
  },
  {
   "cell_type": "markdown",
   "id": "voluntary-porter",
   "metadata": {
    "id": "voluntary-porter"
   },
   "source": [
    "Let's define a convolutional layer that takes three channels as input and produces a single output feature map:"
   ]
  },
  {
   "cell_type": "code",
   "execution_count": 12,
   "id": "spare-ranch",
   "metadata": {
    "id": "spare-ranch"
   },
   "outputs": [
    {
     "name": "stdout",
     "output_type": "stream",
     "text": [
      "Weight parameters of convolutional layer: Parameter containing:\n",
      "tensor([[[[1., 1., 1.],\n",
      "          [1., 1., 1.],\n",
      "          [1., 1., 1.]],\n",
      "\n",
      "         [[1., 1., 1.],\n",
      "          [1., 1., 1.],\n",
      "          [1., 1., 1.]],\n",
      "\n",
      "         [[1., 1., 1.],\n",
      "          [1., 1., 1.],\n",
      "          [1., 1., 1.]]]], requires_grad=True)\n"
     ]
    }
   ],
   "source": [
    "# 3 input (image) channels, 1 output channel, WxW convolution kernel\n",
    "conv = nn.Conv2d(3, 1, W, bias=False)\n",
    "conv.weight = torch.nn.Parameter(torch.ones_like(conv.weight))\n",
    "print('Weight parameters of convolutional layer:', conv.weight)"
   ]
  },
  {
   "cell_type": "markdown",
   "id": "prime-wrapping",
   "metadata": {
    "id": "prime-wrapping"
   },
   "source": [
    "Note that there is one filter for each input channel.\n",
    "The convolutional layer first convolves each input channel with the corresponding filter.\n",
    "This results in three feature maps, whih are added to give the final result:"
   ]
  },
  {
   "cell_type": "code",
   "execution_count": 13,
   "id": "remarkable-prayer",
   "metadata": {
    "id": "remarkable-prayer",
    "scrolled": false
   },
   "outputs": [
    {
     "name": "stdout",
     "output_type": "stream",
     "text": [
      "number of filter parameters: 27 \n",
      "result of filtering the input: tensor([[[[351.]]]], grad_fn=<ConvolutionBackward0>)\n"
     ]
    }
   ],
   "source": [
    "c = conv(x)\n",
    "print('number of filter parameters:', conv.weight.numel(), '\\nresult of filtering the input:', c)"
   ]
  },
  {
   "cell_type": "markdown",
   "id": "accessible-calcium",
   "metadata": {
    "id": "accessible-calcium"
   },
   "source": [
    "It is important that the number of parameters and the dimesionality of the result is clear to you."
   ]
  },
  {
   "cell_type": "markdown",
   "id": "expected-antarctica",
   "metadata": {
    "id": "expected-antarctica"
   },
   "source": [
    "Now let's apply 1$\\times$1 convolutions to our three input channels. Again, we set all filter weights to 1."
   ]
  },
  {
   "cell_type": "code",
   "execution_count": 14,
   "id": "likely-front",
   "metadata": {
    "id": "likely-front",
    "scrolled": true
   },
   "outputs": [
    {
     "name": "stdout",
     "output_type": "stream",
     "text": [
      "Parameter containing:\n",
      "tensor([[[[1.]],\n",
      "\n",
      "         [[1.]],\n",
      "\n",
      "         [[1.]]]], requires_grad=True)\n"
     ]
    }
   ],
   "source": [
    "# 3 input (image) channels, 1 output channel, 1x1 convolution kernel\n",
    "conv = nn.Conv2d(3, 1, 1, bias=False)\n",
    "conv.weight = torch.nn.Parameter(torch.ones_like(conv.weight))\n",
    "print(conv.weight)"
   ]
  },
  {
   "cell_type": "markdown",
   "id": "advisory-resort",
   "metadata": {
    "id": "advisory-resort"
   },
   "source": [
    "This convolutional layer adds the three input feature maps/channels:"
   ]
  },
  {
   "cell_type": "code",
   "execution_count": 15,
   "id": "amateur-sharing",
   "metadata": {
    "id": "amateur-sharing",
    "scrolled": true
   },
   "outputs": [
    {
     "name": "stdout",
     "output_type": "stream",
     "text": [
      "tensor([[[[27., 30., 33.],\n",
      "          [36., 39., 42.],\n",
      "          [45., 48., 51.]]]], grad_fn=<ConvolutionBackward0>)\n"
     ]
    }
   ],
   "source": [
    "c = conv(x)\n",
    "print(c)"
   ]
  },
  {
   "cell_type": "markdown",
   "id": "million-liberty",
   "metadata": {
    "id": "million-liberty"
   },
   "source": [
    "Thus, 1$\\times$1 convolutions can be used to compute weighted sums of input feature maps/channels (in our previous example, all weights were set to 1). "
   ]
  },
  {
   "cell_type": "markdown",
   "id": "threatened-rolling",
   "metadata": {
    "id": "threatened-rolling"
   },
   "source": [
    "## Several output maps\n",
    "Typically, convolutional layer produce several feature maps or channels. For example, consider \n",
    "extending the previous 1$\\times$1 example to two output maps:"
   ]
  },
  {
   "cell_type": "code",
   "execution_count": 16,
   "id": "effective-reform",
   "metadata": {
    "id": "effective-reform",
    "scrolled": true
   },
   "outputs": [
    {
     "name": "stdout",
     "output_type": "stream",
     "text": [
      "Parameter containing:\n",
      "tensor([[[[1.]],\n",
      "\n",
      "         [[1.]],\n",
      "\n",
      "         [[1.]]],\n",
      "\n",
      "\n",
      "        [[[1.]],\n",
      "\n",
      "         [[1.]],\n",
      "\n",
      "         [[1.]]]], requires_grad=True)\n"
     ]
    }
   ],
   "source": [
    "# 3 input (image) channels, 2 output channel, 1x1 convolution kernel\n",
    "conv = nn.Conv2d(3, 2, 1, bias=False)\n",
    "conv.weight = torch.nn.Parameter(torch.ones_like(conv.weight))\n",
    "print(conv.weight)"
   ]
  },
  {
   "cell_type": "markdown",
   "id": "veterinary-while",
   "metadata": {
    "id": "veterinary-while"
   },
   "source": [
    "This layer maps 3 input feature maps to 2 output feature maps, which are identical in our example, because we initialized all filters so that they are identical: "
   ]
  },
  {
   "cell_type": "code",
   "execution_count": 17,
   "id": "civilian-dallas",
   "metadata": {
    "id": "civilian-dallas",
    "scrolled": true
   },
   "outputs": [
    {
     "name": "stdout",
     "output_type": "stream",
     "text": [
      "tensor([[[[27., 30., 33.],\n",
      "          [36., 39., 42.],\n",
      "          [45., 48., 51.]],\n",
      "\n",
      "         [[27., 30., 33.],\n",
      "          [36., 39., 42.],\n",
      "          [45., 48., 51.]]]], grad_fn=<ConvolutionBackward0>)\n"
     ]
    }
   ],
   "source": [
    "c = conv(x)\n",
    "print(c)"
   ]
  },
  {
   "cell_type": "markdown",
   "id": "korean-arrow",
   "metadata": {
    "id": "korean-arrow"
   },
   "source": [
    "The first convolutional layer in a network has typically more output feature maps than input channels. Let's assume 3 input channels, 4 output channels of the same dimensionality (i.e., we use padding), and a filter size of 3. For each output channel, we have 3 filter with 9 parameters/weights each. Thus, we have 108 parameters in total:"
   ]
  },
  {
   "cell_type": "code",
   "execution_count": 18,
   "id": "infrared-renewal",
   "metadata": {
    "id": "infrared-renewal",
    "scrolled": true
   },
   "outputs": [
    {
     "name": "stdout",
     "output_type": "stream",
     "text": [
      "Parameter containing:\n",
      "tensor([[[[ 1.7673e-01,  8.0421e-02,  9.9555e-02],\n",
      "          [-1.5234e-01,  1.1393e-03,  1.8552e-02],\n",
      "          [-1.6366e-01, -7.5544e-03,  3.9269e-02]],\n",
      "\n",
      "         [[ 3.2937e-02,  8.8594e-02,  1.6695e-01],\n",
      "          [-1.4589e-01, -1.7320e-01,  1.6316e-01],\n",
      "          [-6.5110e-02, -2.6610e-02,  1.4445e-01]],\n",
      "\n",
      "         [[ 1.5258e-01, -1.3649e-01, -1.6787e-01],\n",
      "          [-1.7155e-01, -5.5680e-02,  1.6684e-01],\n",
      "          [ 1.6714e-01,  3.6631e-02, -8.5362e-02]]],\n",
      "\n",
      "\n",
      "        [[[ 1.7654e-01,  1.9065e-02,  1.5059e-01],\n",
      "          [-1.0037e-01,  1.7749e-01,  1.3589e-01],\n",
      "          [-1.3953e-01, -1.3135e-01,  2.2062e-02]],\n",
      "\n",
      "         [[ 8.5476e-02, -1.3400e-01,  6.7427e-02],\n",
      "          [ 9.1602e-02, -6.4524e-02,  1.0402e-01],\n",
      "          [ 6.5093e-02,  1.7308e-01, -8.4148e-02]],\n",
      "\n",
      "         [[-1.7934e-01,  7.9588e-02, -3.0008e-02],\n",
      "          [-1.2181e-01, -1.2110e-01,  1.3323e-02],\n",
      "          [-3.1195e-02,  3.0577e-02, -6.4242e-02]]],\n",
      "\n",
      "\n",
      "        [[[-3.7162e-02,  1.5041e-01, -1.3414e-01],\n",
      "          [ 1.3654e-01, -1.8026e-01,  5.8886e-02],\n",
      "          [ 9.0226e-03, -5.6835e-02, -1.3120e-01]],\n",
      "\n",
      "         [[ 1.3284e-01,  8.6496e-02, -1.1734e-01],\n",
      "          [-1.1826e-02, -4.5482e-02, -2.8501e-02],\n",
      "          [ 1.7458e-02, -7.8227e-03, -1.1893e-01]],\n",
      "\n",
      "         [[ 1.7168e-01, -1.6259e-01, -1.6354e-01],\n",
      "          [-1.0136e-01, -1.1768e-01,  8.0110e-02],\n",
      "          [-1.9080e-01, -1.0432e-02, -1.4199e-01]]],\n",
      "\n",
      "\n",
      "        [[[-6.0735e-02,  5.7067e-02, -1.7788e-01],\n",
      "          [-1.3037e-01, -3.5730e-02,  1.5386e-01],\n",
      "          [ 9.2631e-02, -5.5885e-02,  1.2463e-01]],\n",
      "\n",
      "         [[ 1.4292e-01,  1.6953e-01,  1.0277e-01],\n",
      "          [-1.4649e-01, -1.3536e-04,  1.2506e-01],\n",
      "          [ 1.0288e-01,  1.6936e-01,  8.9094e-02]],\n",
      "\n",
      "         [[ 1.5421e-01,  9.7703e-02,  4.2975e-02],\n",
      "          [ 1.5826e-01,  2.6311e-02, -1.4717e-01],\n",
      "          [-1.1623e-01, -8.9825e-02, -8.9883e-02]]]], requires_grad=True)\n",
      "Number of parameters: 108\n"
     ]
    }
   ],
   "source": [
    "conv = nn.Conv2d(3, 4, W, padding=W//2, bias=False)\n",
    "print(conv.weight)\n",
    "print(\"Number of parameters:\", conv.weight.shape.numel())"
   ]
  },
  {
   "cell_type": "markdown",
   "id": "primary-chair",
   "metadata": {
    "id": "primary-chair"
   },
   "source": [
    "And here are the resulting feature maps when applied to our input:"
   ]
  },
  {
   "cell_type": "code",
   "execution_count": 19,
   "id": "blond-damages",
   "metadata": {
    "id": "blond-damages"
   },
   "outputs": [
    {
     "name": "stdout",
     "output_type": "stream",
     "text": [
      "tensor([[[[  2.8432,   0.9017,  -5.2789],\n",
      "          [  0.4281,   0.0664,  -5.7383],\n",
      "          [  0.2974,  -2.5406,  -9.0774]],\n",
      "\n",
      "         [[ -1.4253,  -2.8949,  -2.2040],\n",
      "          [ -0.3707,  -4.8552,  -4.9404],\n",
      "          [  1.0786,  -2.8861,  -7.1860]],\n",
      "\n",
      "         [[ -6.9098, -13.3110,  -9.6901],\n",
      "          [-15.5731, -18.4521,  -8.8148],\n",
      "          [-10.2141,  -7.4906,  -3.4636]],\n",
      "\n",
      "         [[ -1.2619,  -0.3903,   1.0415],\n",
      "          [  4.4979,   9.6058,   9.1973],\n",
      "          [  5.6408,  11.6450,  11.0094]]]], grad_fn=<ConvolutionBackward0>)\n"
     ]
    }
   ],
   "source": [
    "c = conv(x)\n",
    "print(c)"
   ]
  },
  {
   "cell_type": "markdown",
   "id": "central-ozone",
   "metadata": {
    "id": "central-ozone"
   },
   "source": [
    "# Image processing examples\n",
    "Now we consider a more complex example that involves some basic image transformations. First, we need to import NumPy and some image utilities."
   ]
  },
  {
   "cell_type": "code",
   "execution_count": 21,
   "id": "preliminary-discount",
   "metadata": {
    "id": "preliminary-discount"
   },
   "outputs": [],
   "source": [
    "%matplotlib inline\n",
    "import torchvision\n",
    "from PIL import Image\n",
    "import numpy as np\n",
    "import matplotlib.pyplot as plt\n",
    "import cv2\n"
   ]
  },
  {
   "cell_type": "markdown",
   "id": "concerned-demographic",
   "metadata": {
    "id": "concerned-demographic"
   },
   "source": [
    "Let's load an image and convert it to grayscale so that we just deal with a single channel: "
   ]
  },
  {
   "cell_type": "code",
   "execution_count": 22,
   "id": "surprised-advancement",
   "metadata": {
    "id": "surprised-advancement"
   },
   "outputs": [],
   "source": [
    "image = Image.open('diku.jpg')  # Load image\n",
    "image = torchvision.transforms.functional.to_grayscale(image)  # Transform to grayscale, because we only wnat one channel"
   ]
  },
  {
   "cell_type": "markdown",
   "id": "colonial-netscape",
   "metadata": {
    "id": "colonial-netscape"
   },
   "source": [
    "Let's plot the image:"
   ]
  },
  {
   "cell_type": "code",
   "execution_count": 26,
   "id": "median-coordinate",
   "metadata": {
    "id": "median-coordinate"
   },
   "outputs": [
    {
     "name": "stdout",
     "output_type": "stream",
     "text": [
      "PIL image shape: (42, 134) min: 0 max: 255\n"
     ]
    },
    {
     "data": {
      "image/png": "[encoded data removed]",
      "text/plain": [
       "<Figure size 640x480 with 1 Axes>"
      ]
     },
     "metadata": {},
     "output_type": "display_data"
    }
   ],
   "source": [
    "img_np = np.asarray(image) \n",
    "print(\"PIL image shape:\", img_np.shape, \"min:\", img_np.min(), \"max:\", img_np.max())\n",
    "plt.imshow(img_np, cmap='gray', vmin=0, vmax=255);"
   ]
  },
  {
   "cell_type": "markdown",
   "id": "broadband-lingerie",
   "metadata": {
    "id": "broadband-lingerie"
   },
   "source": [
    "The transformation of the image to a tensor maps has two important effects. First, the values are rescaled to $[0.,1.]$. Second, the channels become the first dimension.  The latter implies that, if we want to plot the image, we have to reorder the axes."
   ]
  },
  {
   "cell_type": "code",
   "execution_count": 24,
   "id": "caroline-strength",
   "metadata": {
    "id": "caroline-strength"
   },
   "outputs": [
    {
     "name": "stdout",
     "output_type": "stream",
     "text": [
      "Tensor shape: torch.Size([1, 42, 134]) min: 0.0 max: 1.0\n"
     ]
    },
    {
     "data": {
      "image/png": "[encoded data removed]",
      "text/plain": [
       "<Figure size 640x480 with 1 Axes>"
      ]
     },
     "metadata": {},
     "output_type": "display_data"
    }
   ],
   "source": [
    "x = torchvision.transforms.ToTensor()(image)\n",
    "print(\"Tensor shape:\", x.shape, \"min:\", x.min().item(), \"max:\", x.max().item())\n",
    "plt.imshow(x.permute(1, 2, 0), cmap='gray', vmin=0, vmax=1);"
   ]
  },
  {
   "cell_type": "markdown",
   "id": "suitable-drill",
   "metadata": {
    "id": "suitable-drill"
   },
   "source": [
    "In order to be process by a layer, the tensor needs  another dimension/axis for enumerating the elements in a batch:"
   ]
  },
  {
   "cell_type": "code",
   "execution_count": 27,
   "id": "heated-service",
   "metadata": {
    "id": "heated-service"
   },
   "outputs": [
    {
     "name": "stdout",
     "output_type": "stream",
     "text": [
      "Shape after adding batch dimension: torch.Size([1, 1, 42, 134])\n"
     ]
    }
   ],
   "source": [
    "x.unsqueeze_(0)  # Add a dimension\n",
    "print(\"Shape after adding batch dimension:\", x.shape);"
   ]
  },
  {
   "cell_type": "markdown",
   "id": "empirical-rainbow",
   "metadata": {
    "id": "empirical-rainbow"
   },
   "source": [
    "Now we apply a simple horizontal gradient filter:"
   ]
  },
  {
   "cell_type": "code",
   "execution_count": 28,
   "id": "trained-eligibility",
   "metadata": {
    "id": "trained-eligibility"
   },
   "outputs": [
    {
     "name": "stdout",
     "output_type": "stream",
     "text": [
      "Kernel: tensor([[[[-1.,  1.]]]]) shape: torch.Size([1, 1, 1, 2])\n",
      "Tensor shape: torch.Size([1, 1, 42, 135]) min: -1.0 max: 1.0\n"
     ]
    }
   ],
   "source": [
    "hf = torch.tensor([[[[-1., 1.]]]])  # Define filter\n",
    "print(\"Kernel:\", hf, \"shape:\", hf.shape)\n",
    "\n",
    "conv = nn.Conv2d(1, 1, kernel_size=(1, 2), padding=(0, 1), bias=False)  # Padding only in one dimension needed\n",
    "conv.weight = torch.nn.Parameter(hf, requires_grad=False)  # Set kernel parameters to predefined filter parameters  \n",
    "c = conv(x)  # Apply filter\n",
    "print(\"Tensor shape:\", c.shape, \"min:\", c.min().item(), \"max:\", c.max().item())"
   ]
  },
  {
   "cell_type": "markdown",
   "id": "historic-comedy",
   "metadata": {
    "id": "historic-comedy"
   },
   "source": [
    "We do not need a gradient for the kernel parameters, so we can use ``requires_grad=False``. This allows us to use ``c[0.0]`` as a NumPy array in the visualizaiton below. Alternatively, we could use ``c[0,0].detach()`` in the ``imshow`` call."
   ]
  },
  {
   "cell_type": "code",
   "execution_count": 29,
   "id": "natural-trail",
   "metadata": {
    "id": "natural-trail",
    "scrolled": true
   },
   "outputs": [
    {
     "name": "stdout",
     "output_type": "stream",
     "text": [
      "torch.Size([42, 135])\n"
     ]
    },
    {
     "data": {
      "image/png": "[encoded data removed]",
      "text/plain": [
       "<Figure size 640x480 with 1 Axes>"
      ]
     },
     "metadata": {},
     "output_type": "display_data"
    }
   ],
   "source": [
    "print(c[0,0].shape)\n",
    "plt.imshow(c[0,0], cmap='gray', vmin=-1, vmax=1);"
   ]
  },
  {
   "cell_type": "markdown",
   "id": "c3c67111",
   "metadata": {},
   "source": [
    "Sobel filter"
   ]
  },
  {
   "cell_type": "code",
   "execution_count": 38,
   "id": "aa060366",
   "metadata": {},
   "outputs": [
    {
     "name": "stdout",
     "output_type": "stream",
     "text": [
      "a torch.Size([2, 1, 3, 3])\n",
      "Image shape: torch.Size([1, 2, 40, 132]) min: -4.0 max: 4.0\n"
     ]
    },
    {
     "data": {
      "image/png": "[encoded data removed]",
      "text/plain": [
       "<Figure size 640x480 with 1 Axes>"
      ]
     },
     "metadata": {},
     "output_type": "display_data"
    },
    {
     "data": {
      "image/png": "[encoded data removed]",
      "text/plain": [
       "<Figure size 640x480 with 1 Axes>"
      ]
     },
     "metadata": {},
     "output_type": "display_data"
    },
    {
     "data": {
      "image/png": "[encoded data removed]",
      "text/plain": [
       "<Figure size 640x480 with 1 Axes>"
      ]
     },
     "metadata": {},
     "output_type": "display_data"
    },
    {
     "data": {
      "text/plain": [
       "<Figure size 640x480 with 0 Axes>"
      ]
     },
     "metadata": {},
     "output_type": "display_data"
    }
   ],
   "source": [
    "sobel = np.array([\n",
    "    [1., 0., -1.],\n",
    "    [2., 0., -2.],\n",
    "    [1., 0., -1.]\n",
    "    ])\n",
    "    \n",
    "# gx = torch.tensor(sobel).expand((1, 1, 3))\n",
    "gx = torch.tensor([[[\n",
    "    [1., 0., -1.],\n",
    "    [2., 0., -2.],\n",
    "    [1., 0., -1.]\n",
    "    ]]]) \n",
    "gy = gx.transpose(2, 3)\n",
    "\n",
    "#conv = nn.Conv2d(1, 1, kernel_size=(3, 3), padding=(1, 1), bias=False)  # Padding only in one dimension needed\n",
    "# 1 input (image) channels, 3 output channel, 3x3 convolution kernel\n",
    "conv = nn.Conv2d(1, 2, 3, bias=False)\n",
    "print(\"a\", torch.ones_like(conv.weight).shape)\n",
    "#conv.weight = torch.nn.Parameter(torch.ones_like(conv.weight), requires_grad=False)\n",
    "conv.weight = torch.nn.Parameter(torch.cat((gx, gy),  dim=0), requires_grad=False)  # Set kernel parameters to predefined filter parameters  \n",
    "c = conv(x)  # Apply filter\n",
    "print(\"Image shape:\", c.shape, \"min:\", c.min().item(), \"max:\", c.max().item())\n",
    "plt.imshow(c[0,0], cmap='gray')\n",
    "plt.figure()\n",
    "plt.imshow(c[0,1], cmap='gray')\n",
    "plt.figure()\n",
    "g = torch.sqrt(torch.square(c[0,0]) + torch.square(c[0,1])) \n",
    "g *= 255.0 / g.max()\n",
    " \n",
    "plt.imshow(g, cmap='gray')\n",
    "plt.figure();"
   ]
  }
 ],
 "metadata": {
  "colab": {
   "collapsed_sections": [],
   "name": "Torch 2D convolutions.ipynb",
   "provenance": []
  },
  "kernelspec": {
   "display_name": "Python 3.9.13 ('mla')",
   "language": "python",
   "name": "python3"
  },
  "language_info": {
   "codemirror_mode": {
    "name": "ipython",
    "version": 3
   },
   "file_extension": ".py",
   "mimetype": "text/x-python",
   "name": "python",
   "nbconvert_exporter": "python",
   "pygments_lexer": "ipython3",
   "version": "3.9.13"
  },
  "vscode": {
   "interpreter": {
    "hash": "3cfd72b0f57ea56573c36289726bc19b9ca063e33e6da84059b9f74d0ee4633b"
   }
  }
 },
 "nbformat": 4,
 "nbformat_minor": 5
}
